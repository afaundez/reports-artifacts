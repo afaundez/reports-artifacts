{
 "cells": [
  {
   "cell_type": "code",
   "execution_count": null,
   "id": "bb2aa557",
   "metadata": {},
   "outputs": [],
   "source": [
    "import os\n",
    "\n",
    "output_path = os.environ.get('OUTPUT_PATH') or '/tmp'\n",
    "os.makedirs(output_path, exist_ok=True)\n",
    "outout_metadata_path = output_path + '/report.metadata.json'\n",
    "output_metadata = {}"
   ]
  },
  {
   "cell_type": "code",
   "execution_count": null,
   "id": "1460250b",
   "metadata": {},
   "outputs": [],
   "source": [
    "from sklearn import datasets\n",
    "\n",
    "iris = datasets.load_iris(as_frame=True)\n",
    "ax = iris.data.plot()"
   ]
  },
  {
   "cell_type": "code",
   "execution_count": null,
   "id": "310e1709",
   "metadata": {},
   "outputs": [],
   "source": [
    "output_plot_path = output_path + '/plot.png'\n",
    "output_metadata['plot_01'] = output_plot_path\n",
    "ax.figure.savefig(output_metadata['plot_01'])"
   ]
  },
  {
   "cell_type": "code",
   "execution_count": null,
   "id": "61c7b591",
   "metadata": {},
   "outputs": [],
   "source": [
    "import json\n",
    "\n",
    "with open(outout_metadata_path, \"w+\") as file:\n",
    "    output_metadata_object = json.dumps(output_metadata)\n",
    "    file.write(output_metadata_object)"
   ]
  }
 ],
 "metadata": {
  "kernelspec": {
   "display_name": "Python 3 (ipykernel)",
   "language": "python",
   "name": "python3"
  },
  "language_info": {
   "codemirror_mode": {
    "name": "ipython",
    "version": 3
   },
   "file_extension": ".py",
   "mimetype": "text/x-python",
   "name": "python",
   "nbconvert_exporter": "python",
   "pygments_lexer": "ipython3",
   "version": "3.9.5"
  }
 },
 "nbformat": 4,
 "nbformat_minor": 5
}
