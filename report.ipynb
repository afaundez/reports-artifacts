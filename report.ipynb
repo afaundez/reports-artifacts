{
 "cells": [
  {
   "cell_type": "markdown",
   "source": [
    "## load variables template at the beginning\n",
    "\n",
    "Every value in `report.template.yml` will be used on the final PDF report"
   ],
   "metadata": {}
  },
  {
   "cell_type": "code",
   "execution_count": null,
   "source": [
    "import os\n",
    "import yaml\n",
    "\n",
    "cuartel = os.environ.get('CUARTEL') or 87\n",
    "\n",
    "output_path = os.environ.get('OUTPUT_PATH') or '/tmp'\n",
    "os.makedirs(output_path, exist_ok=True)\n",
    "output_metadata = yaml.load(open('report.template.yml').read())"
   ],
   "outputs": [],
   "metadata": {}
  },
  {
   "cell_type": "markdown",
   "source": [
    "### view variables example (optional)"
   ],
   "metadata": {}
  },
  {
   "cell_type": "code",
   "execution_count": null,
   "source": [
    "import json\n",
    "\n",
    "print(json.dumps(output_metadata, indent=4))"
   ],
   "outputs": [],
   "metadata": {}
  },
  {
   "cell_type": "markdown",
   "source": [
    "## Code as usual"
   ],
   "metadata": {}
  },
  {
   "cell_type": "code",
   "execution_count": null,
   "source": [
    "from sklearn import datasets\n",
    "\n",
    "cuartel = 87\n",
    "\n",
    "iris = datasets.load_iris(as_frame=True)\n",
    "ax = iris.data.plot()"
   ],
   "outputs": [],
   "metadata": {}
  },
  {
   "cell_type": "markdown",
   "source": [
    "### Save plot to file and add variable to output dictionary\n"
   ],
   "metadata": {}
  },
  {
   "cell_type": "code",
   "execution_count": 4,
   "source": [
    "output_plot_path = 'plot.png'\n",
    "output_metadata['files']['site'] = output_plot_path\n",
    "ax.figure.savefig(output_plot_path)"
   ],
   "outputs": [],
   "metadata": {}
  },
  {
   "cell_type": "markdown",
   "source": [
    "## Save variables at the end\n",
    "\n",
    "Right now, the file must be named `report.variables.json`"
   ],
   "metadata": {}
  },
  {
   "cell_type": "code",
   "execution_count": null,
   "source": [
    "import json\n",
    "\n",
    "print(json.dumps(output_metadata, indent=4))\n",
    "\n",
    "outout_metadata_path = output_path + 'report.variables.json'\n",
    "with open(outout_metadata_path, \"w+\") as file:\n",
    "    output_metadata_object = json.dumps(output_metadata)\n",
    "    file.write(output_metadata_object)"
   ],
   "outputs": [],
   "metadata": {}
  }
 ],
 "metadata": {
  "interpreter": {
   "hash": "98b0a9b7b4eaaa670588a142fd0a9b87eaafe866f1db4228be72b4211d12040f"
  },
  "kernelspec": {
   "name": "python3",
   "display_name": "Python 3.9.5 64-bit ('base': conda)"
  },
  "language_info": {
   "codemirror_mode": {
    "name": "ipython",
    "version": 3
   },
   "file_extension": ".py",
   "mimetype": "text/x-python",
   "name": "python",
   "nbconvert_exporter": "python",
   "pygments_lexer": "ipython3",
   "version": "3.9.5"
  }
 },
 "nbformat": 4,
 "nbformat_minor": 5
}