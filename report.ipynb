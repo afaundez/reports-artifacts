{
 "cells": [
  {
   "cell_type": "markdown",
   "source": [
    "## load variables template at the beginning\n",
    "\n",
    "Every value in `report.template.yml` will be used on the final PDF report"
   ],
   "metadata": {}
  },
  {
   "cell_type": "code",
   "execution_count": null,
   "source": [
    "import os\n",
    "import yaml\n",
    "\n",
    "farm_name = os.environ.get('FARM_Name') or None\n",
    "farm_cuartel = os.environ.get('FARM_CUARTEL') or None\n",
    "farm_shapefile = os.environ.get('FARM_SHAPEFILE') or None\n",
    "report_year_from = os.environ.get('REPORT_YEAR_FROM') or None\n",
    "report_month_from = 'Enero'\n",
    "report_year_to = os.environ.get('REPORT_YEAR_TO') or None\n",
    "report_month_to = 'Septiembre'\n",
    "\n",
    "output_path = os.environ.get('OUTPUT_PATH') or '/tmp'\n",
    "os.makedirs(output_path, exist_ok=True)\n",
    "output_metadata = yaml.load(open('report.template.yml').read())"
   ],
   "outputs": [],
   "metadata": {}
  },
  {
   "cell_type": "markdown",
   "source": [
    "### view variables example (optional)"
   ],
   "metadata": {}
  },
  {
   "cell_type": "code",
   "execution_count": null,
   "source": [
    "import json\n",
    "\n",
    "print(json.dumps(output_metadata, indent=4))"
   ],
   "outputs": [],
   "metadata": {}
  },
  {
   "cell_type": "markdown",
   "source": [
    "## Code as usual"
   ],
   "metadata": {}
  },
  {
   "cell_type": "code",
   "execution_count": null,
   "source": [
    "from sklearn import datasets\n",
    "\n",
    "cuartel = 87\n",
    "\n",
    "iris = datasets.load_iris(as_frame=True)\n",
    "\n",
    "barplot = iris.data.plot.bar()\n",
    "histogram = iris.data.plot.hist()\n",
    "area = iris.data.plot.area()\n",
    "timeline = iris.data.plot()"
   ],
   "outputs": [],
   "metadata": {}
  },
  {
   "cell_type": "markdown",
   "source": [
    "### Save plot to file and add variable to output dictionary\n"
   ],
   "metadata": {}
  },
  {
   "cell_type": "code",
   "execution_count": 4,
   "source": [
    "output_metadata['files']['site'] = output_path + '/site.png'\n",
    "barplot.figure.savefig(output_metadata['files']['site'])\n",
    "\n",
    "output_metadata['files']['vigor'] = output_path + '/vigor.png'\n",
    "histogram.figure.savefig(output_metadata['files']['vigor'])\n",
    "\n",
    "output_metadata['files']['uniformity'] = output_path + '/uniformity.png'\n",
    "area.figure.savefig(output_metadata['files']['uniformity'])\n",
    "\n",
    "output_metadata['files']['timeline'] = output_path + '/timeline.png'\n",
    "timeline.figure.savefig(output_metadata['files']['timeline'])"
   ],
   "outputs": [],
   "metadata": {}
  },
  {
   "cell_type": "markdown",
   "source": [
    "## Save variables at the end\n",
    "\n",
    "Right now, the file must be named `report.variables.json`"
   ],
   "metadata": {}
  },
  {
   "cell_type": "code",
   "execution_count": 14,
   "source": [
    "import json\n",
    "\n",
    "print(json.dumps(output_metadata, indent=4))\n",
    "\n",
    "output_metadata['report']['month'] = report_month_to\n",
    "output_metadata['report']['year'] = report_year_to\n",
    "output_metadata['farm']['name'] = farm_name\n",
    "output_metadata['farm']['cuartel'] = cuartel\n",
    "output_metadata['data'] = {\n",
    "    \"vigor\": {\n",
    "        \"water\": { \"current\": 10, \"previous\": 90 },\n",
    "        \"soil\": { \"current\": 70, \"previous\": 60 },\n",
    "        \"vegetation\": { \"current\": 25, \"previous\": 55 },\n",
    "    },\n",
    "    \"uniformity\": {\n",
    "        \"water\": { \"current\": 99, \"previous\": \"-1\" },\n",
    "        \"soil\": { \"current\": \"125\", \"previous\": -10 },\n",
    "        \"vegetation\": { \"current\": 'a', \"previous\": None },\n",
    "    }\n",
    "}\n",
    "\n",
    "outout_metadata_path = output_path + '/report.variables.json'\n",
    "with open(outout_metadata_path, \"w+\") as file:\n",
    "    output_metadata_object = json.dumps(output_metadata)\n",
    "    file.write(output_metadata_object)"
   ],
   "outputs": [
    {
     "output_type": "stream",
     "name": "stdout",
     "text": [
      "{\n",
      "    \"report\": {\n",
      "        \"month\": \"Septiembre\",\n",
      "        \"year\": null\n",
      "    },\n",
      "    \"farm\": {\n",
      "        \"location\": null,\n",
      "        \"coordinates\": null,\n",
      "        \"id\": null,\n",
      "        \"size\": null,\n",
      "        \"species\": null,\n",
      "        \"variety\": null,\n",
      "        \"name\": null,\n",
      "        \"cuartel\": 87\n",
      "    },\n",
      "    \"files\": {\n",
      "        \"site\": \"/tmp/site.png\",\n",
      "        \"vigor\": \"/tmp/vigor.png\",\n",
      "        \"uniformity\": \"/tmp/uniformity.png\",\n",
      "        \"timeline\": \"/tmp/timeline.png\"\n",
      "    },\n",
      "    \"data\": {\n",
      "        \"vigor\": {\n",
      "            \"water\": {\n",
      "                \"current\": 10,\n",
      "                \"previous\": 90\n",
      "            },\n",
      "            \"soil\": {\n",
      "                \"current\": 70,\n",
      "                \"previous\": 60\n",
      "            },\n",
      "            \"vegetation\": {\n",
      "                \"current\": 25,\n",
      "                \"previous\": 55\n",
      "            }\n",
      "        },\n",
      "        \"uniformity\": {\n",
      "            \"water\": {\n",
      "                \"current\": 99,\n",
      "                \"previous\": 1\n",
      "            },\n",
      "            \"soil\": {\n",
      "                \"current\": 125,\n",
      "                \"previous\": -10\n",
      "            },\n",
      "            \"vegetation\": {\n",
      "                \"current\": \"a\",\n",
      "                \"previous\": null\n",
      "            }\n",
      "        }\n",
      "    }\n",
      "}\n"
     ]
    }
   ],
   "metadata": {}
  },
  {
   "cell_type": "code",
   "execution_count": null,
   "source": [],
   "outputs": [],
   "metadata": {}
  }
 ],
 "metadata": {
  "interpreter": {
   "hash": "98b0a9b7b4eaaa670588a142fd0a9b87eaafe866f1db4228be72b4211d12040f"
  },
  "kernelspec": {
   "name": "python3",
   "display_name": "Python 3.9.5 64-bit ('base': conda)"
  },
  "language_info": {
   "codemirror_mode": {
    "name": "ipython",
    "version": 3
   },
   "file_extension": ".py",
   "mimetype": "text/x-python",
   "name": "python",
   "nbconvert_exporter": "python",
   "pygments_lexer": "ipython3",
   "version": "3.9.5"
  }
 },
 "nbformat": 4,
 "nbformat_minor": 5
}